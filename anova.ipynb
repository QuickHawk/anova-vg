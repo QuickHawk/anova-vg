{
 "cells": [
  {
   "cell_type": "markdown",
   "metadata": {},
   "source": [
    "## Importing Required Libraries"
   ]
  },
  {
   "cell_type": "code",
   "execution_count": 1,
   "metadata": {},
   "outputs": [],
   "source": [
    "import pandas as pd\n",
    "import statsmodels.api as sm\n",
    "from statsmodels.formula.api import ols"
   ]
  },
  {
   "cell_type": "markdown",
   "metadata": {},
   "source": [
    "## Loading the Dataset"
   ]
  },
  {
   "cell_type": "code",
   "execution_count": 2,
   "metadata": {},
   "outputs": [],
   "source": [
    "# Load the dataset\n",
    "data = pd.read_csv(\"vgsales.csv\")"
   ]
  },
  {
   "cell_type": "markdown",
   "metadata": {},
   "source": [
    "## Preprocessing \n",
    "\n",
    "* Filtering the values\n",
    "* Aggregation of sales"
   ]
  },
  {
   "cell_type": "code",
   "execution_count": 3,
   "metadata": {},
   "outputs": [],
   "source": [
    "# Preprocessing the dataset\n",
    "\n",
    "# Filtering out specific values\n",
    "data = data[data[\"Platform\"].isin([\"PS3\", \"X360\", \"PC\", \"Wii\"])]\n",
    "data = data[data[\"Genre\"].isin([\"Action\", \"Shooter\", \"Racing\"])]\n",
    "data = data[data['Year'] > 2005]\n",
    "\n",
    "# Aggregating based on Year, Platform, Genre and Summing them up\n",
    "# This is done because the original dataset consists of individual games, \n",
    "# but the analysis sticks with only Platform and Genre\n",
    "data = data.groupby([\"Year\", \"Platform\", \"Genre\"], group_keys=False).agg(\n",
    "    {\"Global_Sales\": \"sum\"}\n",
    ")\n",
    "data = data.reset_index()"
   ]
  },
  {
   "cell_type": "markdown",
   "metadata": {},
   "source": [
    "## Sample Data"
   ]
  },
  {
   "cell_type": "code",
   "execution_count": 4,
   "metadata": {},
   "outputs": [
    {
     "data": {
      "text/html": [
       "<div>\n",
       "<style scoped>\n",
       "    .dataframe tbody tr th:only-of-type {\n",
       "        vertical-align: middle;\n",
       "    }\n",
       "\n",
       "    .dataframe tbody tr th {\n",
       "        vertical-align: top;\n",
       "    }\n",
       "\n",
       "    .dataframe thead th {\n",
       "        text-align: right;\n",
       "    }\n",
       "</style>\n",
       "<table border=\"1\" class=\"dataframe\">\n",
       "  <thead>\n",
       "    <tr style=\"text-align: right;\">\n",
       "      <th></th>\n",
       "      <th>Year</th>\n",
       "      <th>Platform</th>\n",
       "      <th>Genre</th>\n",
       "      <th>Global_Sales</th>\n",
       "    </tr>\n",
       "  </thead>\n",
       "  <tbody>\n",
       "    <tr>\n",
       "      <th>91</th>\n",
       "      <td>2013.0</td>\n",
       "      <td>X360</td>\n",
       "      <td>Racing</td>\n",
       "      <td>1.52</td>\n",
       "    </tr>\n",
       "    <tr>\n",
       "      <th>64</th>\n",
       "      <td>2011.0</td>\n",
       "      <td>PS3</td>\n",
       "      <td>Racing</td>\n",
       "      <td>6.66</td>\n",
       "    </tr>\n",
       "    <tr>\n",
       "      <th>38</th>\n",
       "      <td>2009.0</td>\n",
       "      <td>PC</td>\n",
       "      <td>Shooter</td>\n",
       "      <td>2.06</td>\n",
       "    </tr>\n",
       "    <tr>\n",
       "      <th>32</th>\n",
       "      <td>2008.0</td>\n",
       "      <td>Wii</td>\n",
       "      <td>Shooter</td>\n",
       "      <td>5.46</td>\n",
       "    </tr>\n",
       "    <tr>\n",
       "      <th>98</th>\n",
       "      <td>2014.0</td>\n",
       "      <td>PS3</td>\n",
       "      <td>Shooter</td>\n",
       "      <td>10.34</td>\n",
       "    </tr>\n",
       "    <tr>\n",
       "      <th>36</th>\n",
       "      <td>2009.0</td>\n",
       "      <td>PC</td>\n",
       "      <td>Action</td>\n",
       "      <td>0.90</td>\n",
       "    </tr>\n",
       "    <tr>\n",
       "      <th>2</th>\n",
       "      <td>2006.0</td>\n",
       "      <td>PC</td>\n",
       "      <td>Shooter</td>\n",
       "      <td>0.09</td>\n",
       "    </tr>\n",
       "    <tr>\n",
       "      <th>104</th>\n",
       "      <td>2015.0</td>\n",
       "      <td>PC</td>\n",
       "      <td>Racing</td>\n",
       "      <td>0.19</td>\n",
       "    </tr>\n",
       "    <tr>\n",
       "      <th>78</th>\n",
       "      <td>2012.0</td>\n",
       "      <td>Wii</td>\n",
       "      <td>Action</td>\n",
       "      <td>8.41</td>\n",
       "    </tr>\n",
       "    <tr>\n",
       "      <th>82</th>\n",
       "      <td>2012.0</td>\n",
       "      <td>X360</td>\n",
       "      <td>Shooter</td>\n",
       "      <td>37.50</td>\n",
       "    </tr>\n",
       "  </tbody>\n",
       "</table>\n",
       "</div>"
      ],
      "text/plain": [
       "       Year Platform    Genre  Global_Sales\n",
       "91   2013.0     X360   Racing          1.52\n",
       "64   2011.0      PS3   Racing          6.66\n",
       "38   2009.0       PC  Shooter          2.06\n",
       "32   2008.0      Wii  Shooter          5.46\n",
       "98   2014.0      PS3  Shooter         10.34\n",
       "36   2009.0       PC   Action          0.90\n",
       "2    2006.0       PC  Shooter          0.09\n",
       "104  2015.0       PC   Racing          0.19\n",
       "78   2012.0      Wii   Action          8.41\n",
       "82   2012.0     X360  Shooter         37.50"
      ]
     },
     "execution_count": 4,
     "metadata": {},
     "output_type": "execute_result"
    }
   ],
   "source": [
    "data.sample(10)"
   ]
  },
  {
   "cell_type": "code",
   "execution_count": 5,
   "metadata": {},
   "outputs": [
    {
     "name": "stdout",
     "output_type": "stream",
     "text": [
      "Platforms :  PC, PS3, Wii, X360\n",
      "Genre :  Action, Racing, Shooter\n"
     ]
    }
   ],
   "source": [
    "print(\"Platforms : \", \", \".join(data['Platform'].unique().tolist()))\n",
    "print(\"Genre : \", \", \".join(data['Genre'].unique().tolist()))"
   ]
  },
  {
   "cell_type": "markdown",
   "metadata": {},
   "source": [
    "## ANOVA Testing"
   ]
  },
  {
   "cell_type": "code",
   "execution_count": 7,
   "metadata": {},
   "outputs": [
    {
     "name": "stdout",
     "output_type": "stream",
     "text": [
      "                         df        sum_sq      mean_sq          F  \\\n",
      "C(Platform)             3.0   5969.652877  1989.884292  16.717588   \n",
      "C(Genre)                2.0   2319.852755  1159.926378   9.744874   \n",
      "C(Platform):C(Genre)    6.0   2090.561755   348.426959   2.927235   \n",
      "Residual              108.0  12855.174249   119.029391        NaN   \n",
      "\n",
      "                            PR(>F)  \n",
      "C(Platform)           5.435790e-09  \n",
      "C(Genre)              1.285934e-04  \n",
      "C(Platform):C(Genre)  1.100418e-02  \n",
      "Residual                       NaN  \n"
     ]
    }
   ],
   "source": [
    "# Two-way ANOVA for Genre and Platform\n",
    "genre_platform_anova = ols(\n",
    "    \"Global_Sales ~ C(Platform) + C(Genre) + C(Platform):C(Genre)\",\n",
    "    data=data,\n",
    ").fit()\n",
    "# print(genre_platform_anova.summary())\n",
    "anova_table = sm.stats.anova_lm(genre_platform_anova, typ=1)\n",
    "print(anova_table)"
   ]
  }
 ],
 "metadata": {
  "kernelspec": {
   "display_name": "Python 3",
   "language": "python",
   "name": "python3"
  },
  "language_info": {
   "codemirror_mode": {
    "name": "ipython",
    "version": 3
   },
   "file_extension": ".py",
   "mimetype": "text/x-python",
   "name": "python",
   "nbconvert_exporter": "python",
   "pygments_lexer": "ipython3",
   "version": "3.12.0"
  }
 },
 "nbformat": 4,
 "nbformat_minor": 2
}
